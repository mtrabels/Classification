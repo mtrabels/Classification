{
 "cells": [
  {
   "cell_type": "code",
   "execution_count": 1,
   "id": "577e5334",
   "metadata": {},
   "outputs": [],
   "source": [
    "import pandas as pd"
   ]
  },
  {
   "cell_type": "code",
   "execution_count": 141,
   "id": "c32c7f28",
   "metadata": {},
   "outputs": [],
   "source": [
    "df_train = pd.read_csv(\"us_census_full/census_income_learn.csv\", header=None)"
   ]
  },
  {
   "cell_type": "code",
   "execution_count": 142,
   "id": "9ee3cb88",
   "metadata": {},
   "outputs": [
    {
     "data": {
      "text/html": [
       "<div>\n",
       "<style scoped>\n",
       "    .dataframe tbody tr th:only-of-type {\n",
       "        vertical-align: middle;\n",
       "    }\n",
       "\n",
       "    .dataframe tbody tr th {\n",
       "        vertical-align: top;\n",
       "    }\n",
       "\n",
       "    .dataframe thead th {\n",
       "        text-align: right;\n",
       "    }\n",
       "</style>\n",
       "<table border=\"1\" class=\"dataframe\">\n",
       "  <thead>\n",
       "    <tr style=\"text-align: right;\">\n",
       "      <th></th>\n",
       "      <th>0</th>\n",
       "      <th>1</th>\n",
       "      <th>2</th>\n",
       "      <th>3</th>\n",
       "      <th>4</th>\n",
       "      <th>5</th>\n",
       "      <th>6</th>\n",
       "      <th>7</th>\n",
       "      <th>8</th>\n",
       "      <th>9</th>\n",
       "      <th>...</th>\n",
       "      <th>32</th>\n",
       "      <th>33</th>\n",
       "      <th>34</th>\n",
       "      <th>35</th>\n",
       "      <th>36</th>\n",
       "      <th>37</th>\n",
       "      <th>38</th>\n",
       "      <th>39</th>\n",
       "      <th>40</th>\n",
       "      <th>41</th>\n",
       "    </tr>\n",
       "  </thead>\n",
       "  <tbody>\n",
       "    <tr>\n",
       "      <th>0</th>\n",
       "      <td>73</td>\n",
       "      <td>Not in universe</td>\n",
       "      <td>0</td>\n",
       "      <td>0</td>\n",
       "      <td>High school graduate</td>\n",
       "      <td>0</td>\n",
       "      <td>Not in universe</td>\n",
       "      <td>Widowed</td>\n",
       "      <td>Not in universe or children</td>\n",
       "      <td>Not in universe</td>\n",
       "      <td>...</td>\n",
       "      <td>United-States</td>\n",
       "      <td>United-States</td>\n",
       "      <td>United-States</td>\n",
       "      <td>Native- Born in the United States</td>\n",
       "      <td>0</td>\n",
       "      <td>Not in universe</td>\n",
       "      <td>2</td>\n",
       "      <td>0</td>\n",
       "      <td>95</td>\n",
       "      <td>- 50000.</td>\n",
       "    </tr>\n",
       "    <tr>\n",
       "      <th>1</th>\n",
       "      <td>58</td>\n",
       "      <td>Self-employed-not incorporated</td>\n",
       "      <td>4</td>\n",
       "      <td>34</td>\n",
       "      <td>Some college but no degree</td>\n",
       "      <td>0</td>\n",
       "      <td>Not in universe</td>\n",
       "      <td>Divorced</td>\n",
       "      <td>Construction</td>\n",
       "      <td>Precision production craft &amp; repair</td>\n",
       "      <td>...</td>\n",
       "      <td>United-States</td>\n",
       "      <td>United-States</td>\n",
       "      <td>United-States</td>\n",
       "      <td>Native- Born in the United States</td>\n",
       "      <td>0</td>\n",
       "      <td>Not in universe</td>\n",
       "      <td>2</td>\n",
       "      <td>52</td>\n",
       "      <td>94</td>\n",
       "      <td>- 50000.</td>\n",
       "    </tr>\n",
       "    <tr>\n",
       "      <th>2</th>\n",
       "      <td>18</td>\n",
       "      <td>Not in universe</td>\n",
       "      <td>0</td>\n",
       "      <td>0</td>\n",
       "      <td>10th grade</td>\n",
       "      <td>0</td>\n",
       "      <td>High school</td>\n",
       "      <td>Never married</td>\n",
       "      <td>Not in universe or children</td>\n",
       "      <td>Not in universe</td>\n",
       "      <td>...</td>\n",
       "      <td>Vietnam</td>\n",
       "      <td>Vietnam</td>\n",
       "      <td>Vietnam</td>\n",
       "      <td>Foreign born- Not a citizen of U S</td>\n",
       "      <td>0</td>\n",
       "      <td>Not in universe</td>\n",
       "      <td>2</td>\n",
       "      <td>0</td>\n",
       "      <td>95</td>\n",
       "      <td>- 50000.</td>\n",
       "    </tr>\n",
       "    <tr>\n",
       "      <th>3</th>\n",
       "      <td>9</td>\n",
       "      <td>Not in universe</td>\n",
       "      <td>0</td>\n",
       "      <td>0</td>\n",
       "      <td>Children</td>\n",
       "      <td>0</td>\n",
       "      <td>Not in universe</td>\n",
       "      <td>Never married</td>\n",
       "      <td>Not in universe or children</td>\n",
       "      <td>Not in universe</td>\n",
       "      <td>...</td>\n",
       "      <td>United-States</td>\n",
       "      <td>United-States</td>\n",
       "      <td>United-States</td>\n",
       "      <td>Native- Born in the United States</td>\n",
       "      <td>0</td>\n",
       "      <td>Not in universe</td>\n",
       "      <td>0</td>\n",
       "      <td>0</td>\n",
       "      <td>94</td>\n",
       "      <td>- 50000.</td>\n",
       "    </tr>\n",
       "    <tr>\n",
       "      <th>4</th>\n",
       "      <td>10</td>\n",
       "      <td>Not in universe</td>\n",
       "      <td>0</td>\n",
       "      <td>0</td>\n",
       "      <td>Children</td>\n",
       "      <td>0</td>\n",
       "      <td>Not in universe</td>\n",
       "      <td>Never married</td>\n",
       "      <td>Not in universe or children</td>\n",
       "      <td>Not in universe</td>\n",
       "      <td>...</td>\n",
       "      <td>United-States</td>\n",
       "      <td>United-States</td>\n",
       "      <td>United-States</td>\n",
       "      <td>Native- Born in the United States</td>\n",
       "      <td>0</td>\n",
       "      <td>Not in universe</td>\n",
       "      <td>0</td>\n",
       "      <td>0</td>\n",
       "      <td>94</td>\n",
       "      <td>- 50000.</td>\n",
       "    </tr>\n",
       "  </tbody>\n",
       "</table>\n",
       "<p>5 rows × 42 columns</p>\n",
       "</div>"
      ],
      "text/plain": [
       "   0                                1   2   3                            4   \\\n",
       "0  73                  Not in universe   0   0         High school graduate   \n",
       "1  58   Self-employed-not incorporated   4  34   Some college but no degree   \n",
       "2  18                  Not in universe   0   0                   10th grade   \n",
       "3   9                  Not in universe   0   0                     Children   \n",
       "4  10                  Not in universe   0   0                     Children   \n",
       "\n",
       "   5                 6               7                             8   \\\n",
       "0   0   Not in universe         Widowed   Not in universe or children   \n",
       "1   0   Not in universe        Divorced                  Construction   \n",
       "2   0       High school   Never married   Not in universe or children   \n",
       "3   0   Not in universe   Never married   Not in universe or children   \n",
       "4   0   Not in universe   Never married   Not in universe or children   \n",
       "\n",
       "                                     9   ...              32              33  \\\n",
       "0                       Not in universe  ...   United-States   United-States   \n",
       "1   Precision production craft & repair  ...   United-States   United-States   \n",
       "2                       Not in universe  ...         Vietnam         Vietnam   \n",
       "3                       Not in universe  ...   United-States   United-States   \n",
       "4                       Not in universe  ...   United-States   United-States   \n",
       "\n",
       "               34                                    35 36                37  \\\n",
       "0   United-States     Native- Born in the United States  0   Not in universe   \n",
       "1   United-States     Native- Born in the United States  0   Not in universe   \n",
       "2         Vietnam   Foreign born- Not a citizen of U S   0   Not in universe   \n",
       "3   United-States     Native- Born in the United States  0   Not in universe   \n",
       "4   United-States     Native- Born in the United States  0   Not in universe   \n",
       "\n",
       "   38  39  40         41  \n",
       "0   2   0  95   - 50000.  \n",
       "1   2  52  94   - 50000.  \n",
       "2   2   0  95   - 50000.  \n",
       "3   0   0  94   - 50000.  \n",
       "4   0   0  94   - 50000.  \n",
       "\n",
       "[5 rows x 42 columns]"
      ]
     },
     "execution_count": 142,
     "metadata": {},
     "output_type": "execute_result"
    }
   ],
   "source": [
    "df_train.head()"
   ]
  },
  {
   "cell_type": "markdown",
   "id": "5f52d723",
   "metadata": {},
   "source": [
    "Based on the metadata, we extract the continuous and categorical columns"
   ]
  },
  {
   "cell_type": "code",
   "execution_count": 143,
   "id": "33947446",
   "metadata": {},
   "outputs": [],
   "source": [
    "cont_columns = [0, 5, 16, 17, 18, 29, 38]\n",
    "y = [41]\n",
    "cat_columns = [i for i in range(len(df_train.columns)) if i not in cont_columns and i not in y]"
   ]
  },
  {
   "cell_type": "code",
   "execution_count": 144,
   "id": "c8fc5b8d",
   "metadata": {},
   "outputs": [
    {
     "data": {
      "text/plain": [
       "7"
      ]
     },
     "execution_count": 144,
     "metadata": {},
     "output_type": "execute_result"
    }
   ],
   "source": [
    "len(cont_columns)"
   ]
  },
  {
   "cell_type": "code",
   "execution_count": 145,
   "id": "ef2fbad7",
   "metadata": {},
   "outputs": [
    {
     "data": {
      "text/plain": [
       "34"
      ]
     },
     "execution_count": 145,
     "metadata": {},
     "output_type": "execute_result"
    }
   ],
   "source": [
    "len(cat_columns)"
   ]
  },
  {
   "cell_type": "markdown",
   "id": "2c64b8b3",
   "metadata": {},
   "source": [
    "# Data check"
   ]
  },
  {
   "cell_type": "markdown",
   "id": "47c4a57a",
   "metadata": {},
   "source": [
    "Check if categorical columns have low cardinality"
   ]
  },
  {
   "cell_type": "code",
   "execution_count": 146,
   "id": "daa01436",
   "metadata": {},
   "outputs": [
    {
     "name": "stdout",
     "output_type": "stream",
     "text": [
      "carinality of column 1: 9\n",
      "carinality of column 2: 52\n",
      "carinality of column 3: 47\n",
      "carinality of column 4: 17\n",
      "carinality of column 6: 3\n",
      "carinality of column 7: 7\n",
      "carinality of column 8: 24\n",
      "carinality of column 9: 15\n",
      "carinality of column 10: 5\n",
      "carinality of column 11: 10\n",
      "carinality of column 12: 2\n",
      "carinality of column 13: 3\n",
      "carinality of column 14: 6\n",
      "carinality of column 15: 8\n",
      "carinality of column 19: 6\n",
      "carinality of column 20: 6\n",
      "carinality of column 21: 51\n",
      "carinality of column 22: 38\n",
      "carinality of column 23: 8\n",
      "carinality of column 24: 99800\n",
      "carinality of column 25: 10\n",
      "carinality of column 26: 9\n",
      "carinality of column 27: 10\n",
      "carinality of column 28: 3\n",
      "carinality of column 30: 7\n",
      "carinality of column 31: 5\n",
      "carinality of column 32: 43\n",
      "carinality of column 33: 43\n",
      "carinality of column 34: 43\n",
      "carinality of column 35: 5\n",
      "carinality of column 36: 3\n",
      "carinality of column 37: 3\n",
      "carinality of column 39: 53\n",
      "carinality of column 40: 2\n"
     ]
    }
   ],
   "source": [
    "for cat in cat_columns:\n",
    "    uniques = df_train[cat].unique()\n",
    "    print(\"carinality of column \" + str(cat) + \": \" + str(len(uniques)))"
   ]
  },
  {
   "cell_type": "markdown",
   "id": "8d5b428e",
   "metadata": {},
   "source": [
    "In column 24, we have a cardinality of 99800 which is not normal. Let's see its content."
   ]
  },
  {
   "cell_type": "code",
   "execution_count": 147,
   "id": "3d46d46a",
   "metadata": {},
   "outputs": [
    {
     "data": {
      "text/plain": [
       "0         1700.09\n",
       "1         1053.55\n",
       "2          991.95\n",
       "3         1758.14\n",
       "4         1069.16\n",
       "           ...   \n",
       "199518     955.27\n",
       "199519     687.19\n",
       "199520    1923.03\n",
       "199521    4664.87\n",
       "199522    1830.11\n",
       "Name: 24, Length: 199523, dtype: float64"
      ]
     },
     "execution_count": 147,
     "metadata": {},
     "output_type": "execute_result"
    }
   ],
   "source": [
    "df_train[24]"
   ]
  },
  {
   "cell_type": "markdown",
   "id": "e6be675f",
   "metadata": {},
   "source": [
    "Here we clearly have a continuous column. Let's see what do we have in the continuous columns."
   ]
  },
  {
   "cell_type": "code",
   "execution_count": 148,
   "id": "bc47faaf",
   "metadata": {},
   "outputs": [
    {
     "name": "stdout",
     "output_type": "stream",
     "text": [
      "carinality of column 0: 91\n",
      "carinality of column 5: 1240\n",
      "carinality of column 16: 132\n",
      "carinality of column 17: 113\n",
      "carinality of column 18: 1478\n",
      "carinality of column 29: 4\n",
      "carinality of column 38: 3\n"
     ]
    }
   ],
   "source": [
    "for cont in cont_columns:\n",
    "    uniques = df_train[cont].unique()\n",
    "    print(\"carinality of column \" + str(cont) + \": \" + str(len(uniques)))"
   ]
  },
  {
   "cell_type": "markdown",
   "id": "5539d681",
   "metadata": {},
   "source": [
    "Column 29 for example seems to have a low cardinality. Let's print it's content:"
   ]
  },
  {
   "cell_type": "code",
   "execution_count": 149,
   "id": "aa6309bf",
   "metadata": {},
   "outputs": [
    {
     "data": {
      "text/plain": [
       "0                        ?\n",
       "1                      Yes\n",
       "2                        ?\n",
       "3          Not in universe\n",
       "4          Not in universe\n",
       "                ...       \n",
       "199518                   ?\n",
       "199519     Not in universe\n",
       "199520                   ?\n",
       "199521                   ?\n",
       "199522     Not in universe\n",
       "Name: 29, Length: 199523, dtype: object"
      ]
     },
     "execution_count": 149,
     "metadata": {},
     "output_type": "execute_result"
    }
   ],
   "source": [
    "df_train[29]"
   ]
  },
  {
   "cell_type": "markdown",
   "id": "2cb62aff",
   "metadata": {},
   "source": [
    "This is clearly not a continuous variable. Even if some columns have same distinct values as explained in the metadata, some others do not correspond to the description. It seems that the order is not correct. If we compare the cardinalities obtained with those of the metadata, we can see that starting from column 24, we have a shift. This is probably due to the insertion of this unknown column with very high cardinality."
   ]
  },
  {
   "cell_type": "markdown",
   "id": "0392ec0e",
   "metadata": {},
   "source": [
    "To be aligned with the metadata, we can put column 24 in the very end of the dataframe are rename columns starting from column 24."
   ]
  },
  {
   "cell_type": "code",
   "execution_count": 150,
   "id": "7a654cf1",
   "metadata": {},
   "outputs": [],
   "source": [
    "target_column = df_train.pop(24)"
   ]
  },
  {
   "cell_type": "code",
   "execution_count": 151,
   "id": "40a1a0e4",
   "metadata": {},
   "outputs": [],
   "source": [
    "df_train.insert(len(df_train.columns), 24, target_column)\n",
    "col_names = [i for i in range(len(df_train.columns))]\n",
    "df_train.columns = col_names"
   ]
  },
  {
   "cell_type": "code",
   "execution_count": 152,
   "id": "c5500d67",
   "metadata": {},
   "outputs": [
    {
     "data": {
      "text/html": [
       "<div>\n",
       "<style scoped>\n",
       "    .dataframe tbody tr th:only-of-type {\n",
       "        vertical-align: middle;\n",
       "    }\n",
       "\n",
       "    .dataframe tbody tr th {\n",
       "        vertical-align: top;\n",
       "    }\n",
       "\n",
       "    .dataframe thead th {\n",
       "        text-align: right;\n",
       "    }\n",
       "</style>\n",
       "<table border=\"1\" class=\"dataframe\">\n",
       "  <thead>\n",
       "    <tr style=\"text-align: right;\">\n",
       "      <th></th>\n",
       "      <th>0</th>\n",
       "      <th>1</th>\n",
       "      <th>2</th>\n",
       "      <th>3</th>\n",
       "      <th>4</th>\n",
       "      <th>5</th>\n",
       "      <th>6</th>\n",
       "      <th>7</th>\n",
       "      <th>8</th>\n",
       "      <th>9</th>\n",
       "      <th>...</th>\n",
       "      <th>32</th>\n",
       "      <th>33</th>\n",
       "      <th>34</th>\n",
       "      <th>35</th>\n",
       "      <th>36</th>\n",
       "      <th>37</th>\n",
       "      <th>38</th>\n",
       "      <th>39</th>\n",
       "      <th>40</th>\n",
       "      <th>41</th>\n",
       "    </tr>\n",
       "  </thead>\n",
       "  <tbody>\n",
       "    <tr>\n",
       "      <th>0</th>\n",
       "      <td>73</td>\n",
       "      <td>Not in universe</td>\n",
       "      <td>0</td>\n",
       "      <td>0</td>\n",
       "      <td>High school graduate</td>\n",
       "      <td>0</td>\n",
       "      <td>Not in universe</td>\n",
       "      <td>Widowed</td>\n",
       "      <td>Not in universe or children</td>\n",
       "      <td>Not in universe</td>\n",
       "      <td>...</td>\n",
       "      <td>United-States</td>\n",
       "      <td>United-States</td>\n",
       "      <td>Native- Born in the United States</td>\n",
       "      <td>0</td>\n",
       "      <td>Not in universe</td>\n",
       "      <td>2</td>\n",
       "      <td>0</td>\n",
       "      <td>95</td>\n",
       "      <td>- 50000.</td>\n",
       "      <td>1700.09</td>\n",
       "    </tr>\n",
       "    <tr>\n",
       "      <th>1</th>\n",
       "      <td>58</td>\n",
       "      <td>Self-employed-not incorporated</td>\n",
       "      <td>4</td>\n",
       "      <td>34</td>\n",
       "      <td>Some college but no degree</td>\n",
       "      <td>0</td>\n",
       "      <td>Not in universe</td>\n",
       "      <td>Divorced</td>\n",
       "      <td>Construction</td>\n",
       "      <td>Precision production craft &amp; repair</td>\n",
       "      <td>...</td>\n",
       "      <td>United-States</td>\n",
       "      <td>United-States</td>\n",
       "      <td>Native- Born in the United States</td>\n",
       "      <td>0</td>\n",
       "      <td>Not in universe</td>\n",
       "      <td>2</td>\n",
       "      <td>52</td>\n",
       "      <td>94</td>\n",
       "      <td>- 50000.</td>\n",
       "      <td>1053.55</td>\n",
       "    </tr>\n",
       "    <tr>\n",
       "      <th>2</th>\n",
       "      <td>18</td>\n",
       "      <td>Not in universe</td>\n",
       "      <td>0</td>\n",
       "      <td>0</td>\n",
       "      <td>10th grade</td>\n",
       "      <td>0</td>\n",
       "      <td>High school</td>\n",
       "      <td>Never married</td>\n",
       "      <td>Not in universe or children</td>\n",
       "      <td>Not in universe</td>\n",
       "      <td>...</td>\n",
       "      <td>Vietnam</td>\n",
       "      <td>Vietnam</td>\n",
       "      <td>Foreign born- Not a citizen of U S</td>\n",
       "      <td>0</td>\n",
       "      <td>Not in universe</td>\n",
       "      <td>2</td>\n",
       "      <td>0</td>\n",
       "      <td>95</td>\n",
       "      <td>- 50000.</td>\n",
       "      <td>991.95</td>\n",
       "    </tr>\n",
       "    <tr>\n",
       "      <th>3</th>\n",
       "      <td>9</td>\n",
       "      <td>Not in universe</td>\n",
       "      <td>0</td>\n",
       "      <td>0</td>\n",
       "      <td>Children</td>\n",
       "      <td>0</td>\n",
       "      <td>Not in universe</td>\n",
       "      <td>Never married</td>\n",
       "      <td>Not in universe or children</td>\n",
       "      <td>Not in universe</td>\n",
       "      <td>...</td>\n",
       "      <td>United-States</td>\n",
       "      <td>United-States</td>\n",
       "      <td>Native- Born in the United States</td>\n",
       "      <td>0</td>\n",
       "      <td>Not in universe</td>\n",
       "      <td>0</td>\n",
       "      <td>0</td>\n",
       "      <td>94</td>\n",
       "      <td>- 50000.</td>\n",
       "      <td>1758.14</td>\n",
       "    </tr>\n",
       "    <tr>\n",
       "      <th>4</th>\n",
       "      <td>10</td>\n",
       "      <td>Not in universe</td>\n",
       "      <td>0</td>\n",
       "      <td>0</td>\n",
       "      <td>Children</td>\n",
       "      <td>0</td>\n",
       "      <td>Not in universe</td>\n",
       "      <td>Never married</td>\n",
       "      <td>Not in universe or children</td>\n",
       "      <td>Not in universe</td>\n",
       "      <td>...</td>\n",
       "      <td>United-States</td>\n",
       "      <td>United-States</td>\n",
       "      <td>Native- Born in the United States</td>\n",
       "      <td>0</td>\n",
       "      <td>Not in universe</td>\n",
       "      <td>0</td>\n",
       "      <td>0</td>\n",
       "      <td>94</td>\n",
       "      <td>- 50000.</td>\n",
       "      <td>1069.16</td>\n",
       "    </tr>\n",
       "  </tbody>\n",
       "</table>\n",
       "<p>5 rows × 42 columns</p>\n",
       "</div>"
      ],
      "text/plain": [
       "   0                                1   2   3                            4   \\\n",
       "0  73                  Not in universe   0   0         High school graduate   \n",
       "1  58   Self-employed-not incorporated   4  34   Some college but no degree   \n",
       "2  18                  Not in universe   0   0                   10th grade   \n",
       "3   9                  Not in universe   0   0                     Children   \n",
       "4  10                  Not in universe   0   0                     Children   \n",
       "\n",
       "   5                 6               7                             8   \\\n",
       "0   0   Not in universe         Widowed   Not in universe or children   \n",
       "1   0   Not in universe        Divorced                  Construction   \n",
       "2   0       High school   Never married   Not in universe or children   \n",
       "3   0   Not in universe   Never married   Not in universe or children   \n",
       "4   0   Not in universe   Never married   Not in universe or children   \n",
       "\n",
       "                                     9   ...              32              33  \\\n",
       "0                       Not in universe  ...   United-States   United-States   \n",
       "1   Precision production craft & repair  ...   United-States   United-States   \n",
       "2                       Not in universe  ...         Vietnam         Vietnam   \n",
       "3                       Not in universe  ...   United-States   United-States   \n",
       "4                       Not in universe  ...   United-States   United-States   \n",
       "\n",
       "                                     34 35                36 37  38  39  \\\n",
       "0     Native- Born in the United States  0   Not in universe  2   0  95   \n",
       "1     Native- Born in the United States  0   Not in universe  2  52  94   \n",
       "2   Foreign born- Not a citizen of U S   0   Not in universe  2   0  95   \n",
       "3     Native- Born in the United States  0   Not in universe  0   0  94   \n",
       "4     Native- Born in the United States  0   Not in universe  0   0  94   \n",
       "\n",
       "          40       41  \n",
       "0   - 50000.  1700.09  \n",
       "1   - 50000.  1053.55  \n",
       "2   - 50000.   991.95  \n",
       "3   - 50000.  1758.14  \n",
       "4   - 50000.  1069.16  \n",
       "\n",
       "[5 rows x 42 columns]"
      ]
     },
     "execution_count": 152,
     "metadata": {},
     "output_type": "execute_result"
    }
   ],
   "source": [
    "df_train.head()"
   ]
  },
  {
   "cell_type": "markdown",
   "id": "f2a50494",
   "metadata": {},
   "source": [
    "Let's check again the cardinalities"
   ]
  },
  {
   "cell_type": "code",
   "execution_count": 153,
   "id": "7f9f129f",
   "metadata": {},
   "outputs": [
    {
     "name": "stdout",
     "output_type": "stream",
     "text": [
      "carinality of column 0: 91\n",
      "carinality of column 1: 9\n",
      "carinality of column 2: 52\n",
      "carinality of column 3: 47\n",
      "carinality of column 4: 17\n",
      "carinality of column 5: 1240\n",
      "carinality of column 6: 3\n",
      "carinality of column 7: 7\n",
      "carinality of column 8: 24\n",
      "carinality of column 9: 15\n",
      "carinality of column 10: 5\n",
      "carinality of column 11: 10\n",
      "carinality of column 12: 2\n",
      "carinality of column 13: 3\n",
      "carinality of column 14: 6\n",
      "carinality of column 15: 8\n",
      "carinality of column 16: 132\n",
      "carinality of column 17: 113\n",
      "carinality of column 18: 1478\n",
      "carinality of column 19: 6\n",
      "carinality of column 20: 6\n",
      "carinality of column 21: 51\n",
      "carinality of column 22: 38\n",
      "carinality of column 23: 8\n",
      "carinality of column 24: 10\n",
      "carinality of column 25: 9\n",
      "carinality of column 26: 10\n",
      "carinality of column 27: 3\n",
      "carinality of column 28: 4\n",
      "carinality of column 29: 7\n",
      "carinality of column 30: 5\n",
      "carinality of column 31: 43\n",
      "carinality of column 32: 43\n",
      "carinality of column 33: 43\n",
      "carinality of column 34: 5\n",
      "carinality of column 35: 3\n",
      "carinality of column 36: 3\n",
      "carinality of column 37: 3\n",
      "carinality of column 38: 53\n",
      "carinality of column 39: 2\n",
      "carinality of column 40: 2\n",
      "carinality of column 41: 99800\n"
     ]
    }
   ],
   "source": [
    "for col in df_train.columns:\n",
    "    uniques = df_train[col].unique()\n",
    "    print(\"carinality of column \" + str(col) + \": \" + str(len(uniques)))"
   ]
  },
  {
   "cell_type": "markdown",
   "id": "82979530",
   "metadata": {},
   "source": [
    "Seems everything is OK. Now let's check if the categorical variables have low cardinality and if there is no continuous variable in string type."
   ]
  },
  {
   "cell_type": "code",
   "execution_count": 154,
   "id": "9a82acb3",
   "metadata": {},
   "outputs": [],
   "source": [
    "cont_columns = [0, 5, 16, 17, 18, 29, 38]\n",
    "y = [40]\n",
    "cat_columns = [i for i in range(len(df_train.columns)-1) if i not in cont_columns and i not in y]"
   ]
  },
  {
   "cell_type": "code",
   "execution_count": 155,
   "id": "ee70c387",
   "metadata": {},
   "outputs": [],
   "source": [
    "for col in cat_columns:\n",
    "    if df_train[col].unique().shape[0] > 70:\n",
    "        print(\"Error in \", col)"
   ]
  },
  {
   "cell_type": "code",
   "execution_count": 156,
   "id": "8c53fbc8",
   "metadata": {},
   "outputs": [],
   "source": [
    "for col in cont_columns:\n",
    "    if pd.api.types.is_string_dtype(df_train[col].dtype):\n",
    "        print(\"Error in \", col)"
   ]
  },
  {
   "cell_type": "markdown",
   "id": "542db4ef",
   "metadata": {},
   "source": [
    "Now that everything is OK, we can do some statistics on the data"
   ]
  },
  {
   "cell_type": "markdown",
   "id": "00e13d16",
   "metadata": {},
   "source": [
    "# Statistics"
   ]
  },
  {
   "cell_type": "markdown",
   "id": "8f3eb988",
   "metadata": {},
   "source": [
    "Check for missing values"
   ]
  },
  {
   "cell_type": "code",
   "execution_count": 157,
   "id": "16e3663d",
   "metadata": {},
   "outputs": [],
   "source": [
    "for col in df_train.columns:\n",
    "    if df_train[col].isnull().values.any():\n",
    "        print(col)"
   ]
  },
  {
   "cell_type": "markdown",
   "id": "611e5bb9",
   "metadata": {},
   "source": [
    "No missing values: 11, 21, 24, 25, 26, 28, 31, 32, 33"
   ]
  },
  {
   "cell_type": "markdown",
   "id": "2e3da07a",
   "metadata": {},
   "source": [
    "Check for duplicates"
   ]
  },
  {
   "cell_type": "code",
   "execution_count": 158,
   "id": "5f16bb01",
   "metadata": {},
   "outputs": [
    {
     "name": "stdout",
     "output_type": "stream",
     "text": [
      "3229 duplicates removed\n"
     ]
    }
   ],
   "source": [
    "size_init = len(df_train)\n",
    "df_train.drop_duplicates(inplace=True)\n",
    "size_final = len(df_train)\n",
    "print(str(size_init - size_final) + \" duplicates removed\")"
   ]
  },
  {
   "cell_type": "markdown",
   "id": "15425c37",
   "metadata": {},
   "source": [
    "Number of people with +50k and people with -50k"
   ]
  },
  {
   "cell_type": "code",
   "execution_count": 159,
   "id": "2fc1b48b",
   "metadata": {},
   "outputs": [],
   "source": [
    "y = 40"
   ]
  },
  {
   "cell_type": "code",
   "execution_count": 160,
   "id": "fe321a0a",
   "metadata": {},
   "outputs": [
    {
     "data": {
      "text/plain": [
       " - 50000.    183912\n",
       " 50000+.      12382\n",
       "Name: 40, dtype: int64"
      ]
     },
     "execution_count": 160,
     "metadata": {},
     "output_type": "execute_result"
    }
   ],
   "source": [
    "df_train[y].value_counts()"
   ]
  },
  {
   "cell_type": "markdown",
   "id": "98ab27a7",
   "metadata": {},
   "source": [
    "We are in an imbalanced class case."
   ]
  },
  {
   "cell_type": "code",
   "execution_count": 161,
   "id": "7ba5dff4",
   "metadata": {},
   "outputs": [],
   "source": [
    "df_train[y] = df_train[y].astype(\"category\")\n",
    "df_train[y] = df_train[y].cat.codes"
   ]
  },
  {
   "cell_type": "code",
   "execution_count": 162,
   "id": "f6e38cb5",
   "metadata": {},
   "outputs": [],
   "source": [
    "df_train_plus_50 = df_train[df_train[y]==1]\n",
    "df_train_minus_50 = df_train[df_train[y]==0]"
   ]
  },
  {
   "cell_type": "markdown",
   "id": "0144acec",
   "metadata": {},
   "source": [
    "Show distributions here, give examples (age, wage...)"
   ]
  },
  {
   "cell_type": "code",
   "execution_count": 163,
   "id": "c970b714",
   "metadata": {},
   "outputs": [],
   "source": [
    "from scipy.stats import chi2_contingency"
   ]
  },
  {
   "cell_type": "code",
   "execution_count": 164,
   "id": "ff2eecfe",
   "metadata": {},
   "outputs": [],
   "source": [
    "def compare_cat_distributions(col):\n",
    "    vec1 = (df_train_plus_50[col].value_counts().sort_index()).values\n",
    "    vec2 = (df_train_minus_50[col].value_counts().sort_index()).values\n",
    "    if len(vec1) != len(vec2):\n",
    "        print(\"pas meme catégories\")\n",
    "        return 1\n",
    "    table = [list(vec1), list(vec2)]\n",
    "    stat, p, dof, expected = chi2_contingency(table)\n",
    "    if p <= 0.05:\n",
    "        return 0\n",
    "    else: \n",
    "        return 1"
   ]
  },
  {
   "cell_type": "code",
   "execution_count": 165,
   "id": "5d0c0c1f",
   "metadata": {},
   "outputs": [
    {
     "name": "stdout",
     "output_type": "stream",
     "text": [
      "pas meme catégories\n",
      "Independency in col 2\n",
      "pas meme catégories\n",
      "Independency in col 4\n",
      "pas meme catégories\n",
      "Independency in col 22\n",
      "pas meme catégories\n",
      "Independency in col 23\n",
      "pas meme catégories\n",
      "Independency in col 24\n",
      "pas meme catégories\n",
      "Independency in col 25\n",
      "pas meme catégories\n",
      "Independency in col 26\n",
      "pas meme catégories\n",
      "Independency in col 30\n",
      "pas meme catégories\n",
      "Independency in col 31\n",
      "pas meme catégories\n",
      "Independency in col 32\n",
      "pas meme catégories\n",
      "Independency in col 33\n",
      "pas meme catégories\n",
      "Independency in col 37\n"
     ]
    }
   ],
   "source": [
    "for col in cat_columns:\n",
    "    res = compare_cat_distributions(col)\n",
    "    if res:\n",
    "        print(\"Independency in col\", col)"
   ]
  },
  {
   "cell_type": "code",
   "execution_count": 166,
   "id": "b33eea7c",
   "metadata": {},
   "outputs": [],
   "source": [
    "from statsmodels.stats.weightstats import ztest\n",
    "from scipy.stats import ttest_ind"
   ]
  },
  {
   "cell_type": "code",
   "execution_count": 167,
   "id": "ada42f85",
   "metadata": {},
   "outputs": [],
   "source": [
    "def compare_cont_distributions(col):\n",
    "    vec1 = df_train_plus_50[col].values\n",
    "    vec2 = df_train_minus_50[col].values\n",
    "    if col != 29: #use ttest here because variance is not known(only 7 values)\n",
    "        stat, p = ztest(vec1, x2=vec2, value=0)\n",
    "        if p <= 0.05:\n",
    "            return 1\n",
    "        else: \n",
    "            return 0\n",
    "    else:\n",
    "        stat, p = ttest_ind(vec1, vec2)\n",
    "        if p <= 0.05:\n",
    "            return 1\n",
    "        else:\n",
    "            return 0"
   ]
  },
  {
   "cell_type": "code",
   "execution_count": 168,
   "id": "bb7e7415",
   "metadata": {},
   "outputs": [
    {
     "name": "stdout",
     "output_type": "stream",
     "text": [
      "Independency in col 0\n",
      "Independency in col 5\n",
      "Independency in col 16\n",
      "Independency in col 17\n",
      "Independency in col 18\n",
      "Independency in col 29\n",
      "Independency in col 38\n"
     ]
    }
   ],
   "source": [
    "for col in cont_columns:\n",
    "    res = compare_cont_distributions(col)\n",
    "    if res:\n",
    "        print(\"Independency in col\", col)"
   ]
  },
  {
   "cell_type": "markdown",
   "id": "7bc364e8",
   "metadata": {},
   "source": [
    "# Modeling"
   ]
  },
  {
   "cell_type": "markdown",
   "id": "67e6d63c",
   "metadata": {},
   "source": [
    "We need to find wether a person makes more or less than 50000/year so this is a binary classification problem."
   ]
  },
  {
   "cell_type": "markdown",
   "id": "0217a6dd",
   "metadata": {},
   "source": [
    "We first try to train our model on all our features."
   ]
  },
  {
   "cell_type": "markdown",
   "id": "ce3d38b9",
   "metadata": {},
   "source": [
    "First, let's encode the categorical variables and the y value"
   ]
  },
  {
   "cell_type": "code",
   "execution_count": 169,
   "id": "de532b6b",
   "metadata": {},
   "outputs": [],
   "source": [
    "for col in cat_columns:\n",
    "    df_train[col] = df_train[col].astype(\"category\")\n",
    "    df_train[col] = df_train[col].cat.codes"
   ]
  },
  {
   "cell_type": "code",
   "execution_count": 170,
   "id": "3626f18b",
   "metadata": {},
   "outputs": [
    {
     "data": {
      "text/html": [
       "<div>\n",
       "<style scoped>\n",
       "    .dataframe tbody tr th:only-of-type {\n",
       "        vertical-align: middle;\n",
       "    }\n",
       "\n",
       "    .dataframe tbody tr th {\n",
       "        vertical-align: top;\n",
       "    }\n",
       "\n",
       "    .dataframe thead th {\n",
       "        text-align: right;\n",
       "    }\n",
       "</style>\n",
       "<table border=\"1\" class=\"dataframe\">\n",
       "  <thead>\n",
       "    <tr style=\"text-align: right;\">\n",
       "      <th></th>\n",
       "      <th>0</th>\n",
       "      <th>1</th>\n",
       "      <th>2</th>\n",
       "      <th>3</th>\n",
       "      <th>4</th>\n",
       "      <th>5</th>\n",
       "      <th>6</th>\n",
       "      <th>7</th>\n",
       "      <th>8</th>\n",
       "      <th>9</th>\n",
       "      <th>...</th>\n",
       "      <th>32</th>\n",
       "      <th>33</th>\n",
       "      <th>34</th>\n",
       "      <th>35</th>\n",
       "      <th>36</th>\n",
       "      <th>37</th>\n",
       "      <th>38</th>\n",
       "      <th>39</th>\n",
       "      <th>40</th>\n",
       "      <th>41</th>\n",
       "    </tr>\n",
       "  </thead>\n",
       "  <tbody>\n",
       "    <tr>\n",
       "      <th>0</th>\n",
       "      <td>73</td>\n",
       "      <td>3</td>\n",
       "      <td>0</td>\n",
       "      <td>0</td>\n",
       "      <td>12</td>\n",
       "      <td>0</td>\n",
       "      <td>2</td>\n",
       "      <td>6</td>\n",
       "      <td>14</td>\n",
       "      <td>6</td>\n",
       "      <td>...</td>\n",
       "      <td>40</td>\n",
       "      <td>40</td>\n",
       "      <td>4</td>\n",
       "      <td>0</td>\n",
       "      <td>1</td>\n",
       "      <td>2</td>\n",
       "      <td>0</td>\n",
       "      <td>1</td>\n",
       "      <td>0</td>\n",
       "      <td>1700.09</td>\n",
       "    </tr>\n",
       "    <tr>\n",
       "      <th>1</th>\n",
       "      <td>58</td>\n",
       "      <td>6</td>\n",
       "      <td>4</td>\n",
       "      <td>34</td>\n",
       "      <td>16</td>\n",
       "      <td>0</td>\n",
       "      <td>2</td>\n",
       "      <td>0</td>\n",
       "      <td>4</td>\n",
       "      <td>8</td>\n",
       "      <td>...</td>\n",
       "      <td>40</td>\n",
       "      <td>40</td>\n",
       "      <td>4</td>\n",
       "      <td>0</td>\n",
       "      <td>1</td>\n",
       "      <td>2</td>\n",
       "      <td>52</td>\n",
       "      <td>0</td>\n",
       "      <td>0</td>\n",
       "      <td>1053.55</td>\n",
       "    </tr>\n",
       "    <tr>\n",
       "      <th>2</th>\n",
       "      <td>18</td>\n",
       "      <td>3</td>\n",
       "      <td>0</td>\n",
       "      <td>0</td>\n",
       "      <td>0</td>\n",
       "      <td>0</td>\n",
       "      <td>1</td>\n",
       "      <td>4</td>\n",
       "      <td>14</td>\n",
       "      <td>6</td>\n",
       "      <td>...</td>\n",
       "      <td>41</td>\n",
       "      <td>41</td>\n",
       "      <td>0</td>\n",
       "      <td>0</td>\n",
       "      <td>1</td>\n",
       "      <td>2</td>\n",
       "      <td>0</td>\n",
       "      <td>1</td>\n",
       "      <td>0</td>\n",
       "      <td>991.95</td>\n",
       "    </tr>\n",
       "    <tr>\n",
       "      <th>3</th>\n",
       "      <td>9</td>\n",
       "      <td>3</td>\n",
       "      <td>0</td>\n",
       "      <td>0</td>\n",
       "      <td>10</td>\n",
       "      <td>0</td>\n",
       "      <td>2</td>\n",
       "      <td>4</td>\n",
       "      <td>14</td>\n",
       "      <td>6</td>\n",
       "      <td>...</td>\n",
       "      <td>40</td>\n",
       "      <td>40</td>\n",
       "      <td>4</td>\n",
       "      <td>0</td>\n",
       "      <td>1</td>\n",
       "      <td>0</td>\n",
       "      <td>0</td>\n",
       "      <td>0</td>\n",
       "      <td>0</td>\n",
       "      <td>1758.14</td>\n",
       "    </tr>\n",
       "    <tr>\n",
       "      <th>4</th>\n",
       "      <td>10</td>\n",
       "      <td>3</td>\n",
       "      <td>0</td>\n",
       "      <td>0</td>\n",
       "      <td>10</td>\n",
       "      <td>0</td>\n",
       "      <td>2</td>\n",
       "      <td>4</td>\n",
       "      <td>14</td>\n",
       "      <td>6</td>\n",
       "      <td>...</td>\n",
       "      <td>40</td>\n",
       "      <td>40</td>\n",
       "      <td>4</td>\n",
       "      <td>0</td>\n",
       "      <td>1</td>\n",
       "      <td>0</td>\n",
       "      <td>0</td>\n",
       "      <td>0</td>\n",
       "      <td>0</td>\n",
       "      <td>1069.16</td>\n",
       "    </tr>\n",
       "  </tbody>\n",
       "</table>\n",
       "<p>5 rows × 42 columns</p>\n",
       "</div>"
      ],
      "text/plain": [
       "   0   1   2   3   4   5   6   7   8   9   ...  32  33  34  35  36  37  38  \\\n",
       "0  73   3   0   0  12   0   2   6  14   6  ...  40  40   4   0   1   2   0   \n",
       "1  58   6   4  34  16   0   2   0   4   8  ...  40  40   4   0   1   2  52   \n",
       "2  18   3   0   0   0   0   1   4  14   6  ...  41  41   0   0   1   2   0   \n",
       "3   9   3   0   0  10   0   2   4  14   6  ...  40  40   4   0   1   0   0   \n",
       "4  10   3   0   0  10   0   2   4  14   6  ...  40  40   4   0   1   0   0   \n",
       "\n",
       "   39  40       41  \n",
       "0   1   0  1700.09  \n",
       "1   0   0  1053.55  \n",
       "2   1   0   991.95  \n",
       "3   0   0  1758.14  \n",
       "4   0   0  1069.16  \n",
       "\n",
       "[5 rows x 42 columns]"
      ]
     },
     "execution_count": 170,
     "metadata": {},
     "output_type": "execute_result"
    }
   ],
   "source": [
    "df_train.head()"
   ]
  },
  {
   "cell_type": "markdown",
   "id": "25c83e46",
   "metadata": {},
   "source": [
    "Let's split our trainset in train and val data. We have a lot of data so we can split it once by 80% train and 20% val."
   ]
  },
  {
   "cell_type": "code",
   "execution_count": 171,
   "id": "f9d6a3c1",
   "metadata": {},
   "outputs": [],
   "source": [
    "from sklearn.model_selection import train_test_split"
   ]
  },
  {
   "cell_type": "code",
   "execution_count": 172,
   "id": "a3afad34",
   "metadata": {},
   "outputs": [],
   "source": [
    "X_train, X_val, y_train, y_val = train_test_split(df_train[cont_columns+cat_columns], df_train[y], test_size=0.2, random_state=42, shuffle=True, stratify=df_train[y])"
   ]
  },
  {
   "cell_type": "code",
   "execution_count": 173,
   "id": "0be5daeb",
   "metadata": {},
   "outputs": [
    {
     "name": "stdout",
     "output_type": "stream",
     "text": [
      "X_train: 157035\n",
      "X_val: 39259\n",
      "y_train: 157035\n",
      "y_val: 39259\n"
     ]
    }
   ],
   "source": [
    "print(\"X_train:\", len(X_train))\n",
    "print(\"X_val:\", len(X_val))\n",
    "print(\"y_train:\", len(y_train))\n",
    "print(\"y_val:\", len(y_val))"
   ]
  },
  {
   "cell_type": "markdown",
   "id": "a0f9cfb0",
   "metadata": {},
   "source": [
    "Now let's train a random forest classifier. This classifier has the reputation to not overfit the data and gives good results without spending a lot of time tuning hyperparameters. Moreover, it can give important features used for classification."
   ]
  },
  {
   "cell_type": "code",
   "execution_count": 35,
   "id": "6a15575f",
   "metadata": {},
   "outputs": [],
   "source": [
    "from sklearn.ensemble import RandomForestClassifier"
   ]
  },
  {
   "cell_type": "code",
   "execution_count": 36,
   "id": "e488bd25",
   "metadata": {},
   "outputs": [],
   "source": [
    "clf = RandomForestClassifier(min_samples_leaf=1, max_features=1.0, max_samples=None, oob_score=True, n_jobs=-1, random_state=42)"
   ]
  },
  {
   "cell_type": "code",
   "execution_count": 37,
   "id": "d1822aa9",
   "metadata": {},
   "outputs": [
    {
     "data": {
      "text/plain": [
       "RandomForestClassifier(max_features=1.0, n_jobs=-1, oob_score=True,\n",
       "                       random_state=42)"
      ]
     },
     "execution_count": 37,
     "metadata": {},
     "output_type": "execute_result"
    }
   ],
   "source": [
    "clf.fit(X_train, y_train)"
   ]
  },
  {
   "cell_type": "markdown",
   "id": "792106d6",
   "metadata": {},
   "source": [
    "Test model"
   ]
  },
  {
   "cell_type": "code",
   "execution_count": 38,
   "id": "a3cc8aa0",
   "metadata": {},
   "outputs": [
    {
     "name": "stdout",
     "output_type": "stream",
     "text": [
      "accuracy: 0.9532336534297868\n"
     ]
    }
   ],
   "source": [
    "acc = clf.score(X_val, y_val)\n",
    "print(\"accuracy:\", acc)"
   ]
  },
  {
   "cell_type": "markdown",
   "id": "2b1e5117",
   "metadata": {},
   "source": [
    "Our accuracy is good, but we also need the fscore for more details."
   ]
  },
  {
   "cell_type": "code",
   "execution_count": 39,
   "id": "ab627510",
   "metadata": {},
   "outputs": [],
   "source": [
    "from sklearn.metrics import precision_recall_fscore_support"
   ]
  },
  {
   "cell_type": "code",
   "execution_count": 40,
   "id": "71144d05",
   "metadata": {},
   "outputs": [
    {
     "name": "stdout",
     "output_type": "stream",
     "text": [
      "+50k precision: 0.6934703748488513\n",
      "+50k recall: 0.4632471728594507\n",
      "+50k fscore: 0.5554479418886199\n",
      "\n",
      "-50k precision: 0.9646589549262066\n",
      "-50k recall: 0.9862164586901557\n",
      "-50k fscore: 0.975318599774157\n"
     ]
    }
   ],
   "source": [
    "y_pred = clf.predict(X_val)\n",
    "precision, recall, fscore, _ = precision_recall_fscore_support(y_val, y_pred)\n",
    "print(\"+50k precision:\", precision[1])\n",
    "print(\"+50k recall:\", recall[1])\n",
    "print(\"+50k fscore:\", fscore[1])\n",
    "print()\n",
    "print(\"-50k precision:\", precision[0])\n",
    "print(\"-50k recall:\", recall[0])\n",
    "print(\"-50k fscore:\", fscore[0])"
   ]
  },
  {
   "cell_type": "markdown",
   "id": "3a635e70",
   "metadata": {},
   "source": [
    "We can obtain features importance from the trained model"
   ]
  },
  {
   "cell_type": "code",
   "execution_count": 41,
   "id": "737e7ba1",
   "metadata": {},
   "outputs": [],
   "source": [
    "import numpy as np\n",
    "importances = clf.feature_importances_\n",
    "sorted_indices = np.argsort(importances)[::-1]"
   ]
  },
  {
   "cell_type": "code",
   "execution_count": 42,
   "id": "a8d500c4",
   "metadata": {},
   "outputs": [],
   "source": [
    "import matplotlib.pyplot as plt"
   ]
  },
  {
   "cell_type": "code",
   "execution_count": 43,
   "id": "a4e77342",
   "metadata": {},
   "outputs": [
    {
     "data": {
      "image/png": "[encoded data removed]",
      "text/plain": [
       "<Figure size 432x288 with 1 Axes>"
      ]
     },
     "metadata": {
      "needs_background": "light"
     },
     "output_type": "display_data"
    }
   ],
   "source": [
    "plt.title('Feature Importance')\n",
    "plt.bar(range(X_train.shape[1]), importances[sorted_indices], align='center')\n",
    "plt.xticks(range(X_train.shape[1]), X_train.columns[sorted_indices], rotation=90)\n",
    "plt.tight_layout()\n",
    "plt.show()"
   ]
  },
  {
   "cell_type": "markdown",
   "id": "7aaeeada",
   "metadata": {},
   "source": [
    "Dire que ca correspond à notre analyse dans la partie statistic"
   ]
  },
  {
   "cell_type": "markdown",
   "id": "c0402b94",
   "metadata": {},
   "source": [
    "We have low fscore for +50k class. This is expected as we are in a imbalanced case."
   ]
  },
  {
   "cell_type": "markdown",
   "id": "bbf071b9",
   "metadata": {},
   "source": [
    "### First solution"
   ]
  },
  {
   "cell_type": "markdown",
   "id": "9aa4700a",
   "metadata": {},
   "source": [
    "Let's add this constraint to our random forest model using the class_weight argument."
   ]
  },
  {
   "cell_type": "code",
   "execution_count": 62,
   "id": "4b1c21e3",
   "metadata": {},
   "outputs": [],
   "source": [
    "clf = RandomForestClassifier(min_samples_leaf=1, max_features=1.0, max_samples=None, oob_score=True, n_jobs=-1, random_state=42, class_weight={0:1,1:20}).fit(X_train, y_train)"
   ]
  },
  {
   "cell_type": "code",
   "execution_count": 65,
   "id": "6e86d2d5",
   "metadata": {},
   "outputs": [
    {
     "name": "stdout",
     "output_type": "stream",
     "text": [
      "+50k precision: 0.688293370944993\n",
      "+50k recall: 0.39418416801292405\n",
      "+50k fscore: 0.5012840267077555\n",
      "\n",
      "-50k precision: 0.9603604555904971\n",
      "-50k recall: 0.9879835793709051\n",
      "-50k fscore: 0.9739762006861064\n"
     ]
    }
   ],
   "source": [
    "y_pred = clf.predict(X_val)\n",
    "precision, recall, fscore, _ = precision_recall_fscore_support(y_val, y_pred)\n",
    "print(\"+50k precision:\", precision[1])\n",
    "print(\"+50k recall:\", recall[1])\n",
    "print(\"+50k fscore:\", fscore[1])\n",
    "print()\n",
    "print(\"-50k precision:\", precision[0])\n",
    "print(\"-50k recall:\", recall[0])\n",
    "print(\"-50k fscore:\", fscore[0])"
   ]
  },
  {
   "cell_type": "markdown",
   "id": "c889bffa",
   "metadata": {},
   "source": [
    "Our fscore is still low."
   ]
  },
  {
   "cell_type": "markdown",
   "id": "c42576ee",
   "metadata": {},
   "source": [
    "### Second solution"
   ]
  },
  {
   "cell_type": "code",
   "execution_count": 53,
   "id": "b285c55d",
   "metadata": {},
   "outputs": [],
   "source": [
    "from imblearn.ensemble import BalancedRandomForestClassifier"
   ]
  },
  {
   "cell_type": "code",
   "execution_count": 66,
   "id": "7b74c8c2",
   "metadata": {},
   "outputs": [
    {
     "name": "stderr",
     "output_type": "stream",
     "text": [
      "c:\\users\\trabelme\\env\\workshop\\lib\\site-packages\\imblearn\\ensemble\\_forest.py:604: UserWarning: Some inputs do not have OOB scores. This probably means too few trees were used to compute any reliable oob estimates.\n",
      "  warn(\n"
     ]
    },
    {
     "data": {
      "text/plain": [
       "BalancedRandomForestClassifier(max_features=1.0, n_jobs=-1, oob_score=True,\n",
       "                               random_state=42)"
      ]
     },
     "execution_count": 66,
     "metadata": {},
     "output_type": "execute_result"
    }
   ],
   "source": [
    "clf = BalancedRandomForestClassifier(n_estimators=100, min_samples_leaf=1, max_features=1.0, max_samples=None, oob_score=True, n_jobs=-1, random_state=42)\n",
    "clf.fit(X_train, y_train)"
   ]
  },
  {
   "cell_type": "code",
   "execution_count": 67,
   "id": "e7bd0347",
   "metadata": {},
   "outputs": [
    {
     "name": "stdout",
     "output_type": "stream",
     "text": [
      "+50k precision: 0.2794858870967742\n",
      "+50k recall: 0.8957996768982229\n",
      "+50k fscore: 0.4260468689973108\n",
      "\n",
      "-50k precision: 0.9917632410688632\n",
      "-50k recall: 0.8445477530380883\n",
      "-50k fscore: 0.9122544269227381\n"
     ]
    }
   ],
   "source": [
    "y_pred = clf.predict(X_val)\n",
    "precision, recall, fscore, _ = precision_recall_fscore_support(y_val, y_pred)\n",
    "print(\"+50k precision:\", precision[1])\n",
    "print(\"+50k recall:\", recall[1])\n",
    "print(\"+50k fscore:\", fscore[1])\n",
    "print()\n",
    "print(\"-50k precision:\", precision[0])\n",
    "print(\"-50k recall:\", recall[0])\n",
    "print(\"-50k fscore:\", fscore[0])"
   ]
  },
  {
   "cell_type": "markdown",
   "id": "67704a54",
   "metadata": {},
   "source": [
    "### Feature selection"
   ]
  },
  {
   "cell_type": "markdown",
   "id": "6c3d9b94",
   "metadata": {},
   "source": [
    "Create new column"
   ]
  },
  {
   "cell_type": "code",
   "execution_count": 174,
   "id": "473f8a44",
   "metadata": {},
   "outputs": [],
   "source": [
    "df_train[len(df_train.columns)] = df_train[16] - df_train[17]"
   ]
  },
  {
   "cell_type": "code",
   "execution_count": 181,
   "id": "140371f4",
   "metadata": {},
   "outputs": [],
   "source": [
    "df_train_plus_50 = df_train[df_train[y]==1]\n",
    "df_train_minus_50 = df_train[df_train[y]==0]"
   ]
  },
  {
   "cell_type": "code",
   "execution_count": 182,
   "id": "f7323d8e",
   "metadata": {},
   "outputs": [],
   "source": [
    "columns = [i for i in df_train.columns if i not in [16, 17, 40, 41]]"
   ]
  },
  {
   "cell_type": "markdown",
   "id": "6503e5c8",
   "metadata": {},
   "source": [
    "column 0, 38, 4"
   ]
  },
  {
   "cell_type": "code",
   "execution_count": 265,
   "id": "603fc253",
   "metadata": {},
   "outputs": [
    {
     "data": {
      "text/plain": [
       "<AxesSubplot:>"
      ]
     },
     "execution_count": 265,
     "metadata": {},
     "output_type": "execute_result"
    },
    {
     "data": {
      "image/png": "[encoded data removed]",
      "text/plain": [
       "<Figure size 1800x360 with 1 Axes>"
      ]
     },
     "metadata": {
      "needs_background": "light"
     },
     "output_type": "display_data"
    }
   ],
   "source": [
    "df_train_plus_50[38].hist(figsize=(25, 5))"
   ]
  },
  {
   "cell_type": "code",
   "execution_count": 266,
   "id": "89047699",
   "metadata": {},
   "outputs": [
    {
     "data": {
      "text/plain": [
       "<AxesSubplot:>"
      ]
     },
     "execution_count": 266,
     "metadata": {},
     "output_type": "execute_result"
    },
    {
     "data": {
      "image/png": "[encoded data removed]",
      "text/plain": [
       "<Figure size 1800x360 with 1 Axes>"
      ]
     },
     "metadata": {
      "needs_background": "light"
     },
     "output_type": "display_data"
    }
   ],
   "source": [
    "df_train_minus_50[38].hist(figsize=(25, 5))"
   ]
  },
  {
   "cell_type": "code",
   "execution_count": 270,
   "id": "7590f9c7",
   "metadata": {},
   "outputs": [],
   "source": [
    "df_train_plus_50 = df_train_plus_50[df_train_plus_50[38] >=40]"
   ]
  },
  {
   "cell_type": "code",
   "execution_count": 278,
   "id": "7f6a4b42",
   "metadata": {},
   "outputs": [],
   "source": [
    "df_train_plus_50 = df_train_plus_50[df_train_plus_50[0] >=20]"
   ]
  },
  {
   "cell_type": "code",
   "execution_count": 279,
   "id": "a6902e5e",
   "metadata": {},
   "outputs": [],
   "source": [
    "df_train1 = df_train_plus_50.append(df_train_minus_50, ignore_index=True)"
   ]
  },
  {
   "cell_type": "code",
   "execution_count": 280,
   "id": "4b1fadf8",
   "metadata": {},
   "outputs": [
    {
     "data": {
      "text/plain": [
       "0    183912\n",
       "1     11292\n",
       "Name: 40, dtype: int64"
      ]
     },
     "execution_count": 280,
     "metadata": {},
     "output_type": "execute_result"
    }
   ],
   "source": [
    "#df_train1 = df_train[(df_train[38] >= 40)]\n",
    "df_train1[y].value_counts()"
   ]
  },
  {
   "cell_type": "code",
   "execution_count": 281,
   "id": "6b848308",
   "metadata": {},
   "outputs": [],
   "source": [
    "X_train, X_val, y_train, y_val = train_test_split(df_train1[columns], df_train1[y], test_size=0.2, random_state=42, shuffle=True, stratify=df_train1[y])"
   ]
  },
  {
   "cell_type": "code",
   "execution_count": 282,
   "id": "9386fca8",
   "metadata": {},
   "outputs": [
    {
     "name": "stdout",
     "output_type": "stream",
     "text": [
      "+50k precision: 0.6929993577392421\n",
      "+50k recall: 0.47785651018600533\n",
      "+50k fscore: 0.5656618610747052\n",
      "\n",
      "-50k precision: 0.9685465798740797\n",
      "-50k recall: 0.98700486637849\n",
      "-50k fscore: 0.9776886100152153\n"
     ]
    }
   ],
   "source": [
    "clf = RandomForestClassifier(min_samples_leaf=1, max_features=1.0, max_samples=None, oob_score=True, n_jobs=-1, random_state=42).fit(X_train, y_train)\n",
    "y_pred = clf.predict(X_val)\n",
    "precision, recall, fscore, _ = precision_recall_fscore_support(y_val, y_pred)\n",
    "print(\"+50k precision:\", precision[1])\n",
    "print(\"+50k recall:\", recall[1])\n",
    "print(\"+50k fscore:\", fscore[1])\n",
    "print()\n",
    "print(\"-50k precision:\", precision[0])\n",
    "print(\"-50k recall:\", recall[0])\n",
    "print(\"-50k fscore:\", fscore[0])"
   ]
  },
  {
   "cell_type": "code",
   "execution_count": 284,
   "id": "34fa093b",
   "metadata": {},
   "outputs": [],
   "source": [
    "from sklearn.ensemble import GradientBoostingClassifier"
   ]
  },
  {
   "cell_type": "code",
   "execution_count": 285,
   "id": "221dbabf",
   "metadata": {},
   "outputs": [],
   "source": [
    "clf = GradientBoostingClassifier(max_features=1.0, n_estimators=1000, random_state=42, learning_rate=0.1).fit(X_train, y_train)"
   ]
  },
  {
   "cell_type": "code",
   "execution_count": 286,
   "id": "52c6c41c",
   "metadata": {},
   "outputs": [
    {
     "name": "stdout",
     "output_type": "stream",
     "text": [
      "+50k precision: 0.7546791443850267\n",
      "+50k recall: 0.5\n",
      "+50k fscore: 0.6014917421417155\n",
      "\n",
      "-50k precision: 0.9699294180316953\n",
      "-50k recall: 0.9900225647717695\n",
      "-50k fscore: 0.9798729953718652\n"
     ]
    }
   ],
   "source": [
    "y_pred = clf.predict(X_val)\n",
    "precision, recall, fscore, _ = precision_recall_fscore_support(y_val, y_pred)\n",
    "print(\"+50k precision:\", precision[1])\n",
    "print(\"+50k recall:\", recall[1])\n",
    "print(\"+50k fscore:\", fscore[1])\n",
    "print()\n",
    "print(\"-50k precision:\", precision[0])\n",
    "print(\"-50k recall:\", recall[0])\n",
    "print(\"-50k fscore:\", fscore[0])"
   ]
  },
  {
   "cell_type": "markdown",
   "id": "ce45e82f",
   "metadata": {},
   "source": [
    "Another alternative would be to do some feature selection before training. In the statistics section, we identified columns that discriminates the +50k and -50k populations. "
   ]
  },
  {
   "cell_type": "code",
   "execution_count": 349,
   "id": "57587f6d",
   "metadata": {},
   "outputs": [],
   "source": [
    "selected_columns = [0, 2, 4, 5, 16, 17, 18, 22, 23, 24, 25, 26, 29, 30, 31, 32, 33, 37, 38]"
   ]
  },
  {
   "cell_type": "code",
   "execution_count": 292,
   "id": "df044a12",
   "metadata": {},
   "outputs": [],
   "source": [
    "#selected_columns = [0, 4, 5, 10, 11, 12, 16, 17, 18, 38]"
   ]
  },
  {
   "cell_type": "code",
   "execution_count": 350,
   "id": "ccffdd1f",
   "metadata": {},
   "outputs": [],
   "source": [
    "X_train1 = X_train[selected_columns]\n",
    "X_val1 = X_val[selected_columns]"
   ]
  },
  {
   "cell_type": "code",
   "execution_count": 351,
   "id": "f5eaf92a",
   "metadata": {},
   "outputs": [],
   "source": [
    "clf = RandomForestClassifier(min_samples_leaf=1, max_features=1.0, max_samples=None, oob_score=True, n_jobs=-1, random_state=42)"
   ]
  },
  {
   "cell_type": "code",
   "execution_count": 352,
   "id": "bd5fa4c9",
   "metadata": {},
   "outputs": [
    {
     "data": {
      "text/plain": [
       "RandomForestClassifier(max_features=1.0, n_jobs=-1, oob_score=True,\n",
       "                       random_state=42)"
      ]
     },
     "execution_count": 352,
     "metadata": {},
     "output_type": "execute_result"
    }
   ],
   "source": [
    "clf.fit(X_train1, y_train)"
   ]
  },
  {
   "cell_type": "code",
   "execution_count": 353,
   "id": "ddc4076f",
   "metadata": {},
   "outputs": [
    {
     "name": "stdout",
     "output_type": "stream",
     "text": [
      "+50k precision: 0.6213836477987421\n",
      "+50k recall: 0.41530054644808745\n",
      "+50k fscore: 0.4978584026203074\n",
      "\n",
      "-50k precision: 0.9395716581954038\n",
      "-50k recall: 0.9729194781826361\n",
      "-50k fscore: 0.9559548277309996\n"
     ]
    },
    {
     "data": {
      "image/png": "[encoded data removed]",
      "text/plain": [
       "<Figure size 432x288 with 1 Axes>"
      ]
     },
     "metadata": {
      "needs_background": "light"
     },
     "output_type": "display_data"
    }
   ],
   "source": [
    "y_pred = clf.predict(X_val1)\n",
    "precision, recall, fscore, _ = precision_recall_fscore_support(y_val, y_pred)\n",
    "print(\"+50k precision:\", precision[1])\n",
    "print(\"+50k recall:\", recall[1])\n",
    "print(\"+50k fscore:\", fscore[1])\n",
    "print()\n",
    "print(\"-50k precision:\", precision[0])\n",
    "print(\"-50k recall:\", recall[0])\n",
    "print(\"-50k fscore:\", fscore[0])\n",
    "importances = clf.feature_importances_\n",
    "sorted_indices = np.argsort(importances)[::-1]\n",
    "plt.title('Feature Importance')\n",
    "plt.bar(range(X_train1.shape[1]), importances[sorted_indices], align='center')\n",
    "plt.xticks(range(X_train1.shape[1]), X_train1.columns[sorted_indices], rotation=90)\n",
    "plt.tight_layout()\n",
    "plt.show()"
   ]
  },
  {
   "cell_type": "markdown",
   "id": "431313ef",
   "metadata": {},
   "source": [
    "Let's try logistic regression"
   ]
  },
  {
   "cell_type": "code",
   "execution_count": 218,
   "id": "473bd0c0",
   "metadata": {},
   "outputs": [],
   "source": [
    "from sklearn.naive_bayes import MultinomialNB"
   ]
  },
  {
   "cell_type": "code",
   "execution_count": 219,
   "id": "ae8d50a2",
   "metadata": {},
   "outputs": [
    {
     "ename": "ValueError",
     "evalue": "Negative values in data passed to MultinomialNB (input X)",
     "output_type": "error",
     "traceback": [
      "\u001b[1;31m---------------------------------------------------------------------------\u001b[0m",
      "\u001b[1;31mValueError\u001b[0m                                Traceback (most recent call last)",
      "\u001b[1;32m~\\AppData\\Local\\Temp\\1/ipykernel_13336/3390206570.py\u001b[0m in \u001b[0;36m<module>\u001b[1;34m\u001b[0m\n\u001b[0;32m      1\u001b[0m \u001b[0mclf\u001b[0m \u001b[1;33m=\u001b[0m \u001b[0mMultinomialNB\u001b[0m\u001b[1;33m(\u001b[0m\u001b[0malpha\u001b[0m\u001b[1;33m=\u001b[0m\u001b[1;36m1.0\u001b[0m\u001b[1;33m)\u001b[0m\u001b[1;33m\u001b[0m\u001b[1;33m\u001b[0m\u001b[0m\n\u001b[1;32m----> 2\u001b[1;33m \u001b[0mclf\u001b[0m\u001b[1;33m.\u001b[0m\u001b[0mfit\u001b[0m\u001b[1;33m(\u001b[0m\u001b[0mX_train\u001b[0m\u001b[1;33m,\u001b[0m \u001b[0my_train\u001b[0m\u001b[1;33m)\u001b[0m\u001b[1;33m\u001b[0m\u001b[1;33m\u001b[0m\u001b[0m\n\u001b[0m",
      "\u001b[1;32mc:\\users\\trabelme\\env\\workshop\\lib\\site-packages\\sklearn\\naive_bayes.py\u001b[0m in \u001b[0;36mfit\u001b[1;34m(self, X, y, sample_weight)\u001b[0m\n\u001b[0;32m    688\u001b[0m         \u001b[0mn_classes\u001b[0m \u001b[1;33m=\u001b[0m \u001b[0mY\u001b[0m\u001b[1;33m.\u001b[0m\u001b[0mshape\u001b[0m\u001b[1;33m[\u001b[0m\u001b[1;36m1\u001b[0m\u001b[1;33m]\u001b[0m\u001b[1;33m\u001b[0m\u001b[1;33m\u001b[0m\u001b[0m\n\u001b[0;32m    689\u001b[0m         \u001b[0mself\u001b[0m\u001b[1;33m.\u001b[0m\u001b[0m_init_counters\u001b[0m\u001b[1;33m(\u001b[0m\u001b[0mn_classes\u001b[0m\u001b[1;33m,\u001b[0m \u001b[0mn_features\u001b[0m\u001b[1;33m)\u001b[0m\u001b[1;33m\u001b[0m\u001b[1;33m\u001b[0m\u001b[0m\n\u001b[1;32m--> 690\u001b[1;33m         \u001b[0mself\u001b[0m\u001b[1;33m.\u001b[0m\u001b[0m_count\u001b[0m\u001b[1;33m(\u001b[0m\u001b[0mX\u001b[0m\u001b[1;33m,\u001b[0m \u001b[0mY\u001b[0m\u001b[1;33m)\u001b[0m\u001b[1;33m\u001b[0m\u001b[1;33m\u001b[0m\u001b[0m\n\u001b[0m\u001b[0;32m    691\u001b[0m         \u001b[0malpha\u001b[0m \u001b[1;33m=\u001b[0m \u001b[0mself\u001b[0m\u001b[1;33m.\u001b[0m\u001b[0m_check_alpha\u001b[0m\u001b[1;33m(\u001b[0m\u001b[1;33m)\u001b[0m\u001b[1;33m\u001b[0m\u001b[1;33m\u001b[0m\u001b[0m\n\u001b[0;32m    692\u001b[0m         \u001b[0mself\u001b[0m\u001b[1;33m.\u001b[0m\u001b[0m_update_feature_log_prob\u001b[0m\u001b[1;33m(\u001b[0m\u001b[0malpha\u001b[0m\u001b[1;33m)\u001b[0m\u001b[1;33m\u001b[0m\u001b[1;33m\u001b[0m\u001b[0m\n",
      "\u001b[1;32mc:\\users\\trabelme\\env\\workshop\\lib\\site-packages\\sklearn\\naive_bayes.py\u001b[0m in \u001b[0;36m_count\u001b[1;34m(self, X, Y)\u001b[0m\n\u001b[0;32m    861\u001b[0m     \u001b[1;32mdef\u001b[0m \u001b[0m_count\u001b[0m\u001b[1;33m(\u001b[0m\u001b[0mself\u001b[0m\u001b[1;33m,\u001b[0m \u001b[0mX\u001b[0m\u001b[1;33m,\u001b[0m \u001b[0mY\u001b[0m\u001b[1;33m)\u001b[0m\u001b[1;33m:\u001b[0m\u001b[1;33m\u001b[0m\u001b[1;33m\u001b[0m\u001b[0m\n\u001b[0;32m    862\u001b[0m         \u001b[1;34m\"\"\"Count and smooth feature occurrences.\"\"\"\u001b[0m\u001b[1;33m\u001b[0m\u001b[1;33m\u001b[0m\u001b[0m\n\u001b[1;32m--> 863\u001b[1;33m         \u001b[0mcheck_non_negative\u001b[0m\u001b[1;33m(\u001b[0m\u001b[0mX\u001b[0m\u001b[1;33m,\u001b[0m \u001b[1;34m\"MultinomialNB (input X)\"\u001b[0m\u001b[1;33m)\u001b[0m\u001b[1;33m\u001b[0m\u001b[1;33m\u001b[0m\u001b[0m\n\u001b[0m\u001b[0;32m    864\u001b[0m         \u001b[0mself\u001b[0m\u001b[1;33m.\u001b[0m\u001b[0mfeature_count_\u001b[0m \u001b[1;33m+=\u001b[0m \u001b[0msafe_sparse_dot\u001b[0m\u001b[1;33m(\u001b[0m\u001b[0mY\u001b[0m\u001b[1;33m.\u001b[0m\u001b[0mT\u001b[0m\u001b[1;33m,\u001b[0m \u001b[0mX\u001b[0m\u001b[1;33m)\u001b[0m\u001b[1;33m\u001b[0m\u001b[1;33m\u001b[0m\u001b[0m\n\u001b[0;32m    865\u001b[0m         \u001b[0mself\u001b[0m\u001b[1;33m.\u001b[0m\u001b[0mclass_count_\u001b[0m \u001b[1;33m+=\u001b[0m \u001b[0mY\u001b[0m\u001b[1;33m.\u001b[0m\u001b[0msum\u001b[0m\u001b[1;33m(\u001b[0m\u001b[0maxis\u001b[0m\u001b[1;33m=\u001b[0m\u001b[1;36m0\u001b[0m\u001b[1;33m)\u001b[0m\u001b[1;33m\u001b[0m\u001b[1;33m\u001b[0m\u001b[0m\n",
      "\u001b[1;32mc:\\users\\trabelme\\env\\workshop\\lib\\site-packages\\sklearn\\utils\\validation.py\u001b[0m in \u001b[0;36mcheck_non_negative\u001b[1;34m(X, whom)\u001b[0m\n\u001b[0;32m   1233\u001b[0m \u001b[1;33m\u001b[0m\u001b[0m\n\u001b[0;32m   1234\u001b[0m     \u001b[1;32mif\u001b[0m \u001b[0mX_min\u001b[0m \u001b[1;33m<\u001b[0m \u001b[1;36m0\u001b[0m\u001b[1;33m:\u001b[0m\u001b[1;33m\u001b[0m\u001b[1;33m\u001b[0m\u001b[0m\n\u001b[1;32m-> 1235\u001b[1;33m         \u001b[1;32mraise\u001b[0m \u001b[0mValueError\u001b[0m\u001b[1;33m(\u001b[0m\u001b[1;34m\"Negative values in data passed to %s\"\u001b[0m \u001b[1;33m%\u001b[0m \u001b[0mwhom\u001b[0m\u001b[1;33m)\u001b[0m\u001b[1;33m\u001b[0m\u001b[1;33m\u001b[0m\u001b[0m\n\u001b[0m\u001b[0;32m   1236\u001b[0m \u001b[1;33m\u001b[0m\u001b[0m\n\u001b[0;32m   1237\u001b[0m \u001b[1;33m\u001b[0m\u001b[0m\n",
      "\u001b[1;31mValueError\u001b[0m: Negative values in data passed to MultinomialNB (input X)"
     ]
    }
   ],
   "source": [
    "clf = MultinomialNB(alpha=1.0)\n",
    "clf.fit(X_train, y_train)"
   ]
  },
  {
   "cell_type": "code",
   "execution_count": 216,
   "id": "5e208353",
   "metadata": {},
   "outputs": [
    {
     "name": "stdout",
     "output_type": "stream",
     "text": [
      "+50k precision: 0.5563981042654028\n",
      "+50k recall: 0.2598494909251881\n",
      "+50k fscore: 0.3542546771273385\n",
      "\n",
      "-50k precision: 0.8880706921944035\n",
      "-50k recall: 0.9659239842726082\n",
      "-50k fscore: 0.9253627232142857\n"
     ]
    }
   ],
   "source": [
    "y_pred = clf.predict(X_val)\n",
    "precision, recall, fscore, _ = precision_recall_fscore_support(y_val, y_pred)\n",
    "print(\"+50k precision:\", precision[1])\n",
    "print(\"+50k recall:\", recall[1])\n",
    "print(\"+50k fscore:\", fscore[1])\n",
    "print()\n",
    "print(\"-50k precision:\", precision[0])\n",
    "print(\"-50k recall:\", recall[0])\n",
    "print(\"-50k fscore:\", fscore[0])"
   ]
  },
  {
   "cell_type": "code",
   "execution_count": 210,
   "id": "3253f6ba",
   "metadata": {},
   "outputs": [],
   "source": [
    "from sklearn.linear_model import LogisticRegression"
   ]
  },
  {
   "cell_type": "code",
   "execution_count": 222,
   "id": "e056656a",
   "metadata": {},
   "outputs": [
    {
     "name": "stderr",
     "output_type": "stream",
     "text": [
      "c:\\users\\trabelme\\env\\workshop\\lib\\site-packages\\sklearn\\linear_model\\_logistic.py:814: ConvergenceWarning: lbfgs failed to converge (status=1):\n",
      "STOP: TOTAL NO. of ITERATIONS REACHED LIMIT.\n",
      "\n",
      "Increase the number of iterations (max_iter) or scale the data as shown in:\n",
      "    https://scikit-learn.org/stable/modules/preprocessing.html\n",
      "Please also refer to the documentation for alternative solver options:\n",
      "    https://scikit-learn.org/stable/modules/linear_model.html#logistic-regression\n",
      "  n_iter_i = _check_optimize_result(\n"
     ]
    }
   ],
   "source": [
    "clf = LogisticRegression(random_state=42, max_iter=1000, solver='lbfgs').fit(X_train, y_train)"
   ]
  },
  {
   "cell_type": "code",
   "execution_count": 63,
   "id": "ac901ce1",
   "metadata": {},
   "outputs": [],
   "source": [
    "y_pred = clf.predict(X_val)\n",
    "precision, recall, fscore, _ = precision_recall_fscore_support(y_val, y_pred)"
   ]
  },
  {
   "cell_type": "code",
   "execution_count": 64,
   "id": "af70a557",
   "metadata": {},
   "outputs": [
    {
     "name": "stdout",
     "output_type": "stream",
     "text": [
      "+50k precision: 0.8140043763676149\n",
      "+50k recall: 0.15024232633279483\n",
      "+50k fscore: 0.2536651892260484\n",
      "\n",
      "-50k precision: 0.9466639626850537\n",
      "-50k recall: 0.9977290336370194\n",
      "-50k fscore: 0.9715259440404802\n"
     ]
    }
   ],
   "source": [
    "print(\"+50k precision:\", precision[1])\n",
    "print(\"+50k recall:\", recall[1])\n",
    "print(\"+50k fscore:\", fscore[1])\n",
    "print()\n",
    "print(\"-50k precision:\", precision[0])\n",
    "print(\"-50k recall:\", recall[0])\n",
    "print(\"-50k fscore:\", fscore[0])"
   ]
  },
  {
   "cell_type": "code",
   "execution_count": 61,
   "id": "4c378708",
   "metadata": {},
   "outputs": [],
   "source": [
    "from sklearn.svm import SVC"
   ]
  },
  {
   "cell_type": "code",
   "execution_count": null,
   "id": "0c215606",
   "metadata": {},
   "outputs": [],
   "source": [
    "clf = SVC(kernel='linear').fit(X_train, y_train)"
   ]
  },
  {
   "cell_type": "markdown",
   "id": "9b3bd96f",
   "metadata": {},
   "source": [
    "# Annexe"
   ]
  },
  {
   "cell_type": "code",
   "execution_count": 241,
   "id": "ad7ec709",
   "metadata": {},
   "outputs": [],
   "source": [
    "new_df = pd.DataFrame()\n",
    "new_df[X_train.columns] = X_train\n",
    "new_df[40] = y_train"
   ]
  },
  {
   "cell_type": "code",
   "execution_count": 242,
   "id": "2f67d852",
   "metadata": {},
   "outputs": [],
   "source": [
    "new_df_minus_50 = new_df[new_df[40]==0]\n",
    "new_df_plus_50 = new_df[new_df[40]==1]"
   ]
  },
  {
   "cell_type": "code",
   "execution_count": 244,
   "id": "e6825dc4",
   "metadata": {},
   "outputs": [
    {
     "data": {
      "text/plain": [
       "9033"
      ]
     },
     "execution_count": 244,
     "metadata": {},
     "output_type": "execute_result"
    }
   ],
   "source": [
    "len(new_df_plus_50)"
   ]
  },
  {
   "cell_type": "code",
   "execution_count": 245,
   "id": "ca427944",
   "metadata": {},
   "outputs": [],
   "source": [
    "new_df_minus_50_sub = new_df_minus_50[0:12000]"
   ]
  },
  {
   "cell_type": "code",
   "execution_count": 246,
   "id": "392bd361",
   "metadata": {},
   "outputs": [],
   "source": [
    "X_minus_50 = new_df_minus_50_sub[columns]\n",
    "y_minus_50 = new_df_minus_50_sub[y]"
   ]
  },
  {
   "cell_type": "code",
   "execution_count": 247,
   "id": "a9aea60a",
   "metadata": {},
   "outputs": [],
   "source": [
    "X_plus_50 = new_df_plus_50[columns]\n",
    "y_plus_50 = new_df_plus_50[y]"
   ]
  },
  {
   "cell_type": "code",
   "execution_count": 248,
   "id": "fe29772d",
   "metadata": {},
   "outputs": [],
   "source": [
    "X_train = X_plus_50.append(X_minus_50, ignore_index=True)"
   ]
  },
  {
   "cell_type": "code",
   "execution_count": 249,
   "id": "a9bfd2ee",
   "metadata": {},
   "outputs": [],
   "source": [
    "y_train = y_plus_50.append(y_minus_50, ignore_index=True)"
   ]
  },
  {
   "cell_type": "code",
   "execution_count": 256,
   "id": "382c20bf",
   "metadata": {},
   "outputs": [],
   "source": [
    "clf = GradientBoostingClassifier(max_features=1.0, n_estimators=2000, random_state=42, learning_rate=0.1).fit(X_train, y_train)"
   ]
  },
  {
   "cell_type": "code",
   "execution_count": 395,
   "id": "a73c23f1",
   "metadata": {},
   "outputs": [],
   "source": [
    "clf = RandomForestClassifier(min_samples_leaf=1, max_features=\"sqrt\", max_samples=None, oob_score=True, n_jobs=-1, random_state=42)"
   ]
  },
  {
   "cell_type": "code",
   "execution_count": 396,
   "id": "48693f0b",
   "metadata": {},
   "outputs": [
    {
     "data": {
      "text/plain": [
       "RandomForestClassifier(max_features='sqrt', n_jobs=-1, oob_score=True,\n",
       "                       random_state=42)"
      ]
     },
     "execution_count": 396,
     "metadata": {},
     "output_type": "execute_result"
    }
   ],
   "source": [
    "clf.fit(X_train, y_train)"
   ]
  },
  {
   "cell_type": "code",
   "execution_count": 257,
   "id": "c83b641b",
   "metadata": {},
   "outputs": [],
   "source": [
    "y_pred = clf.predict(X_val)"
   ]
  },
  {
   "cell_type": "code",
   "execution_count": 258,
   "id": "d8809a45",
   "metadata": {},
   "outputs": [],
   "source": [
    "precision, recall, fscore, _ = precision_recall_fscore_support(y_val, y_pred)"
   ]
  },
  {
   "cell_type": "code",
   "execution_count": 259,
   "id": "67a01389",
   "metadata": {},
   "outputs": [
    {
     "name": "stdout",
     "output_type": "stream",
     "text": [
      "+50k precision: 0.47413333333333335\n",
      "+50k recall: 0.7870739265161576\n",
      "+50k fscore: 0.5917789981694125\n",
      "\n",
      "-50k precision: 0.9607122437311116\n",
      "-50k recall: 0.8564147371486821\n",
      "-50k fscore: 0.9055703121992531\n"
     ]
    }
   ],
   "source": [
    "print(\"+50k precision:\", precision[1])\n",
    "print(\"+50k recall:\", recall[1])\n",
    "print(\"+50k fscore:\", fscore[1])\n",
    "print()\n",
    "print(\"-50k precision:\", precision[0])\n",
    "print(\"-50k recall:\", recall[0])\n",
    "print(\"-50k fscore:\", fscore[0])"
   ]
  }
 ],
 "metadata": {
  "kernelspec": {
   "display_name": "Python 3 (ipykernel)",
   "language": "python",
   "name": "python3"
  },
  "language_info": {
   "codemirror_mode": {
    "name": "ipython",
    "version": 3
   },
   "file_extension": ".py",
   "mimetype": "text/x-python",
   "name": "python",
   "nbconvert_exporter": "python",
   "pygments_lexer": "ipython3",
   "version": "3.8.10"
  }
 },
 "nbformat": 4,
 "nbformat_minor": 5
}
